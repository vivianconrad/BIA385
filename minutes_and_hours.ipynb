
{
  "nbformat": 4,
  "nbformat_minor": 0,
  "metadata": {
    "colab": {
      "name": "minutes and hours",
      "provenance": [],
      "authorship_tag": "ABX9TyPlDPekah2mRHPsSNYlv8M1",
      "include_colab_link": true
    },
    "kernelspec": {
      "name": "python3",
      "display_name": "Python 3"
    },
    "language_info": {
      "name": "python"
    }
  },
  "cells": [
    {
      "cell_type": "markdown",
      "metadata": {
        "id": "view-in-github",
        "colab_type": "text"
      },
      "source": [
        "<a href=\"https://colab.research.google.com/github/vivianconrad/BIA385/blob/main/minutes_and_hours.ipynb\" target=\"_parent\"><img src=\"https://colab.research.google.com/assets/colab-badge.svg\" alt=\"Open In Colab\"/></a>"
      ]
    },
    {
      "cell_type": "code",
      "metadata": {
        "colab": {
          "base_uri": "https://localhost:8080/"
        },
        "id": "y9QXBWOhFkqj",
        "outputId": "424c40b6-c2e6-48a4-f5f5-34e5f7bad1a0"
      },
      "source": [
        "minutes = int(input('Enter minutes:\\n'))\n",
        "hours = minutes // 60\n",
        "minutes_remaining = minutes % 60\n",
        "\n",
        "print(minutes, 'minutes is', end=' ')\n",
        "print(hours, 'hours and', end=' ')\n",
        "print(minutes_remaining, 'minutes.\\n', end=' ')"
      ],
      "execution_count": null,
      "outputs": [
        {
          "output_type": "stream",
          "text": [
            "Enter minutes:\n",
            "20\n",
            "20 minutes is 0 hours and 20 minutes.\n",
            " "
          ],
          "name": "stdout"
        }
      ]
    },
    {
      "cell_type": "code",
      "metadata": {
        "colab": {
          "base_uri": "https://localhost:8080/"
        },
        "id": "gVo3BWKUFq8y",
        "outputId": "a794cde4-d96b-4a5c-bd67-6643da8bf051"
      },
      "source": [
        "hours=int(input('Enter hours\\n'))\n",
        "minutes = int(input('Enter minutes\\n'))\n",
        "total_minutes = minutes + (hours * 60)\n",
        "\n",
        "print(hours, 'hour(s) and', minutes, 'minutes is', end = ' ')\n",
        "print(total_minutes)"
      ],
      "execution_count": null,
      "outputs": [
        {
          "output_type": "stream",
          "text": [
            "Enter hours\n",
            "3\n",
            "Enter minutes\n",
            "24\n",
            "3 hour(s) and 24 minutes is 204\n"
          ],
          "name": "stdout"
        }
      ]
    }
  ]
}